{
  "nbformat": 4,
  "nbformat_minor": 0,
  "metadata": {
    "colab": {
      "name": "BTTH",
      "provenance": [],
      "authorship_tag": "ABX9TyMOwJY8tfOZfdjPTcFoeH2u",
      "include_colab_link": true
    },
    "kernelspec": {
      "name": "python3",
      "display_name": "Python 3"
    }
  },
  "cells": [
    {
      "cell_type": "markdown",
      "metadata": {
        "id": "view-in-github",
        "colab_type": "text"
      },
      "source": [
        "<a href=\"https://colab.research.google.com/github/BuiDaoGiaHuy/CS114.K21/blob/master/BTTH.ipynb\" target=\"_parent\"><img src=\"https://colab.research.google.com/assets/colab-badge.svg\" alt=\"Open In Colab\"/></a>"
      ]
    },
    {
      "cell_type": "code",
      "metadata": {
        "id": "_866FPwkoSaV",
        "colab_type": "code",
        "colab": {}
      },
      "source": [
        "import matplotlib.pyplot as plt\n",
        "import pandas as pd\n",
        "import numpy as np\n",
        "from sklearn.linear_model import LinearRegression\n",
        "from sklearn.model_selection import train_test_split\n",
        "from sklearn.metrics import mean_squared_error"
      ],
      "execution_count": 0,
      "outputs": []
    },
    {
      "cell_type": "markdown",
      "metadata": {
        "id": "ZnlSgLnIq5Gp",
        "colab_type": "text"
      },
      "source": [
        "Đọc dữ liệu"
      ]
    },
    {
      "cell_type": "code",
      "metadata": {
        "id": "TyX-pfulpsEc",
        "colab_type": "code",
        "colab": {
          "base_uri": "https://localhost:8080/",
          "height": 415
        },
        "outputId": "0d7f6bb9-77ab-493e-9c25-800d8f6aefa1"
      },
      "source": [
        "data=pd.read_csv('data.txt',header=None)\n",
        "data"
      ],
      "execution_count": 5,
      "outputs": [
        {
          "output_type": "execute_result",
          "data": {
            "text/html": [
              "<div>\n",
              "<style scoped>\n",
              "    .dataframe tbody tr th:only-of-type {\n",
              "        vertical-align: middle;\n",
              "    }\n",
              "\n",
              "    .dataframe tbody tr th {\n",
              "        vertical-align: top;\n",
              "    }\n",
              "\n",
              "    .dataframe thead th {\n",
              "        text-align: right;\n",
              "    }\n",
              "</style>\n",
              "<table border=\"1\" class=\"dataframe\">\n",
              "  <thead>\n",
              "    <tr style=\"text-align: right;\">\n",
              "      <th></th>\n",
              "      <th>0</th>\n",
              "      <th>1</th>\n",
              "    </tr>\n",
              "  </thead>\n",
              "  <tbody>\n",
              "    <tr>\n",
              "      <th>0</th>\n",
              "      <td>4032139</td>\n",
              "      <td>1.200580</td>\n",
              "    </tr>\n",
              "    <tr>\n",
              "      <th>1</th>\n",
              "      <td>2055486</td>\n",
              "      <td>0.509774</td>\n",
              "    </tr>\n",
              "    <tr>\n",
              "      <th>2</th>\n",
              "      <td>5626651</td>\n",
              "      <td>1.476080</td>\n",
              "    </tr>\n",
              "    <tr>\n",
              "      <th>3</th>\n",
              "      <td>42065</td>\n",
              "      <td>0.007651</td>\n",
              "    </tr>\n",
              "    <tr>\n",
              "      <th>4</th>\n",
              "      <td>6297788</td>\n",
              "      <td>1.661560</td>\n",
              "    </tr>\n",
              "    <tr>\n",
              "      <th>...</th>\n",
              "      <td>...</td>\n",
              "      <td>...</td>\n",
              "    </tr>\n",
              "    <tr>\n",
              "      <th>5206</th>\n",
              "      <td>6600098</td>\n",
              "      <td>1.804520</td>\n",
              "    </tr>\n",
              "    <tr>\n",
              "      <th>5207</th>\n",
              "      <td>5339132</td>\n",
              "      <td>1.450310</td>\n",
              "    </tr>\n",
              "    <tr>\n",
              "      <th>5208</th>\n",
              "      <td>4794647</td>\n",
              "      <td>1.293070</td>\n",
              "    </tr>\n",
              "    <tr>\n",
              "      <th>5209</th>\n",
              "      <td>4440131</td>\n",
              "      <td>1.196530</td>\n",
              "    </tr>\n",
              "    <tr>\n",
              "      <th>5210</th>\n",
              "      <td>2033708</td>\n",
              "      <td>0.517288</td>\n",
              "    </tr>\n",
              "  </tbody>\n",
              "</table>\n",
              "<p>5211 rows × 2 columns</p>\n",
              "</div>"
            ],
            "text/plain": [
              "            0         1\n",
              "0     4032139  1.200580\n",
              "1     2055486  0.509774\n",
              "2     5626651  1.476080\n",
              "3       42065  0.007651\n",
              "4     6297788  1.661560\n",
              "...       ...       ...\n",
              "5206  6600098  1.804520\n",
              "5207  5339132  1.450310\n",
              "5208  4794647  1.293070\n",
              "5209  4440131  1.196530\n",
              "5210  2033708  0.517288\n",
              "\n",
              "[5211 rows x 2 columns]"
            ]
          },
          "metadata": {
            "tags": []
          },
          "execution_count": 5
        }
      ]
    },
    {
      "cell_type": "markdown",
      "metadata": {
        "id": "T73SCzGwq8Ji",
        "colab_type": "text"
      },
      "source": [
        "Phân chia dữ liệu"
      ]
    },
    {
      "cell_type": "code",
      "metadata": {
        "id": "pe5JFu49pz5Y",
        "colab_type": "code",
        "colab": {}
      },
      "source": [
        "x=data[0]\n",
        "y=data[1]\n",
        "x_train, x_test, y_train, y_test=train_test_split(x, y, test_size=0.2, random_state=0)\n",
        "x_train=np.array(x_train).reshape(-1,1)\n",
        "y_train=np.array(y_train).reshape(-1,1)\n",
        "x_test=np.array(x_test).reshape(-1,1)"
      ],
      "execution_count": 0,
      "outputs": []
    },
    {
      "cell_type": "markdown",
      "metadata": {
        "id": "T9VNytPOq-n6",
        "colab_type": "text"
      },
      "source": [
        "Xây dựng mô hình"
      ]
    },
    {
      "cell_type": "code",
      "metadata": {
        "id": "j1BRxj2aqJ_b",
        "colab_type": "code",
        "colab": {}
      },
      "source": [
        "model=LinearRegression().fit(x_train,y_train)"
      ],
      "execution_count": 0,
      "outputs": []
    },
    {
      "cell_type": "markdown",
      "metadata": {
        "id": "lr8G6wx6rBM0",
        "colab_type": "text"
      },
      "source": [
        "Đánh giá mô hình"
      ]
    },
    {
      "cell_type": "code",
      "metadata": {
        "id": "W_GErJx9qa2m",
        "colab_type": "code",
        "colab": {
          "base_uri": "https://localhost:8080/",
          "height": 52
        },
        "outputId": "1c998638-dcf8-4cfc-ff4d-9c25717e7260"
      },
      "source": [
        "print('training error:', mean_squared_error(y_train, model.predict(x_train), squared=False))\n",
        "print('test error:', mean_squared_error(y_test, model.predict(x_test), squared=False))"
      ],
      "execution_count": 10,
      "outputs": [
        {
          "output_type": "stream",
          "text": [
            "training error: 0.04151877661720394\n",
            "test error: 0.0442964909115032\n"
          ],
          "name": "stdout"
        }
      ]
    }
  ]
}