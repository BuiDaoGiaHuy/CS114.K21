{
  "nbformat": 4,
  "nbformat_minor": 0,
  "metadata": {
    "colab": {
      "name": "ML_hog",
      "provenance": [],
      "collapsed_sections": [],
      "mount_file_id": "1xF5xZECK1vbqYC5twDi_uG0ef1o-TQp2",
      "authorship_tag": "ABX9TyMprqErk+G3ZIzmGTw3WEPH",
      "include_colab_link": true
    },
    "kernelspec": {
      "name": "python3",
      "display_name": "Python 3"
    },
    "accelerator": "GPU"
  },
  "cells": [
    {
      "cell_type": "markdown",
      "metadata": {
        "id": "view-in-github",
        "colab_type": "text"
      },
      "source": [
        "<a href=\"https://colab.research.google.com/github/BuiDaoGiaHuy/CS114.K21/blob/master/ML_hog.ipynb\" target=\"_parent\"><img src=\"https://colab.research.google.com/assets/colab-badge.svg\" alt=\"Open In Colab\"/></a>"
      ]
    },
    {
      "cell_type": "code",
      "metadata": {
        "id": "lIVxOs3yRGoN",
        "colab_type": "code",
        "colab": {}
      },
      "source": [
        "import os\n",
        "from skimage.feature import hog\n",
        "import cv2\n",
        "from google.colab.patches import cv2_imshow\n",
        "from skimage import data, exposure"
      ],
      "execution_count": null,
      "outputs": []
    },
    {
      "cell_type": "code",
      "metadata": {
        "id": "ZtaJLejHRPrf",
        "colab_type": "code",
        "colab": {}
      },
      "source": [
        "img_size=216"
      ],
      "execution_count": null,
      "outputs": []
    },
    {
      "cell_type": "markdown",
      "metadata": {
        "id": "0Rgid2cLl82P",
        "colab_type": "text"
      },
      "source": [
        "Training data"
      ]
    },
    {
      "cell_type": "code",
      "metadata": {
        "id": "XXw3s_w0RYso",
        "colab_type": "code",
        "colab": {}
      },
      "source": [
        "from skimage.feature import hog\n",
        "X_train=[]\n",
        "Y_train=[]\n",
        "i=0\n",
        "train_path='/content/drive/My Drive/ML/Train'\n",
        "for folder in os.listdir(train_path):\n",
        "  for file in os.listdir(train_path+'/'+folder):\n",
        "    img=cv2.imread(train_path+'/'+folder+'/'+file, cv2.IMREAD_GRAYSCALE)\n",
        "    img=cv2.resize(img, (img_size, img_size))\n",
        "    fd= hog(img, orientations=8, pixels_per_cell=(16, 16), cells_per_block=(4, 4), multichannel=False)\n",
        "    X_train.append(fd)\n",
        "    Y_train.append(folder)"
      ],
      "execution_count": null,
      "outputs": []
    },
    {
      "cell_type": "code",
      "metadata": {
        "id": "Iszke0SJlkvM",
        "colab_type": "code",
        "colab": {}
      },
      "source": [
        "pickle.dump(X_train, open('/content/drive/My Drive/hog data/x_train.pkl','wb'))\n",
        "pickle.dump(Y_train, open('/content/drive/My Drive/hog data/y_train.pkl','wb'))"
      ],
      "execution_count": null,
      "outputs": []
    },
    {
      "cell_type": "markdown",
      "metadata": {
        "id": "RDBNm5kCmADU",
        "colab_type": "text"
      },
      "source": [
        "Test data"
      ]
    },
    {
      "cell_type": "code",
      "metadata": {
        "id": "rlL6j_vtSIDT",
        "colab_type": "code",
        "colab": {}
      },
      "source": [
        "X_test=[]\n",
        "Y_test=[]\n",
        "test_path='/content/drive/My Drive/ML/Test'\n",
        "for folder in os.listdir(test_path):\n",
        "  for file in os.listdir(test_path+'/'+folder):\n",
        "    img=cv2.imread(test_path+'/'+folder+'/'+file, cv2.IMREAD_GRAYSCALE)\n",
        "    img=cv2.resize(img, (img_size, img_size))\n",
        "    fd= hog(img, orientations=8, pixels_per_cell=(16, 16), cells_per_block=(4, 4),multichannel=False)\n",
        "    X_test.append(fd)\n",
        "    Y_test.append(folder)"
      ],
      "execution_count": null,
      "outputs": []
    },
    {
      "cell_type": "code",
      "metadata": {
        "id": "tyZY8I_6l693",
        "colab_type": "code",
        "colab": {}
      },
      "source": [
        "pickle.dump(X_test, open('/content/drive/My Drive/hog data/x_test.pkl','wb'))\n",
        "pickle.dump(Y_test, open('/content/drive/My Drive/hog data/y_test.pkl','wb'))"
      ],
      "execution_count": null,
      "outputs": []
    },
    {
      "cell_type": "markdown",
      "metadata": {
        "id": "OAHc-U7smCOK",
        "colab_type": "text"
      },
      "source": [
        "SVM"
      ]
    },
    {
      "cell_type": "code",
      "metadata": {
        "id": "iqd6ZhSSSWoD",
        "colab_type": "code",
        "colab": {
          "base_uri": "https://localhost:8080/",
          "height": 230
        },
        "outputId": "b8f410c1-dbc7-4b42-cb5d-d26da869d5ba"
      },
      "source": [
        "from sklearn import svm\n",
        "import pickle\n",
        "from sklearn.metrics import classification_report\n",
        "svm_model=svm.SVC(kernel='linear').fit(X_train, Y_train)\n",
        "\n",
        "y_pred=svm_model.predict(X_test)\n",
        "print(classification_report(Y_test, y_pred))"
      ],
      "execution_count": null,
      "outputs": [
        {
          "output_type": "stream",
          "text": [
            "              precision    recall  f1-score   support\n",
            "\n",
            "        Amee       0.83      0.50      0.62        20\n",
            "         MTP       0.75      0.90      0.82        20\n",
            "       MyTam       0.81      0.65      0.72        20\n",
            "        NDLN       0.61      0.85      0.71        20\n",
            "   TranThanh       0.90      0.90      0.90        20\n",
            "\n",
            "    accuracy                           0.76       100\n",
            "   macro avg       0.78      0.76      0.75       100\n",
            "weighted avg       0.78      0.76      0.75       100\n",
            "\n"
          ],
          "name": "stdout"
        }
      ]
    },
    {
      "cell_type": "code",
      "metadata": {
        "id": "boEw2muamUqP",
        "colab_type": "code",
        "colab": {}
      },
      "source": [
        "pickle.dump(svm_model, open('/content/drive/My Drive/hog data/svm.pkl','wb'))"
      ],
      "execution_count": null,
      "outputs": []
    },
    {
      "cell_type": "markdown",
      "metadata": {
        "id": "T-4HWNJKPxBH",
        "colab_type": "text"
      },
      "source": [
        "Logistic Regression\n"
      ]
    },
    {
      "cell_type": "code",
      "metadata": {
        "id": "qklIRnSTPzO2",
        "colab_type": "code",
        "colab": {
          "base_uri": "https://localhost:8080/",
          "height": 392
        },
        "outputId": "dcf08d4e-fa15-45de-da2e-75e27403392f"
      },
      "source": [
        "from sklearn.linear_model import LogisticRegression\n",
        "LR = LogisticRegression(random_state=0).fit(X_train, Y_train)\n",
        "\n",
        "y_pred=LR.predict(X_test)\n",
        "print(classification_report(Y_test, y_pred))"
      ],
      "execution_count": null,
      "outputs": [
        {
          "output_type": "stream",
          "text": [
            "              precision    recall  f1-score   support\n",
            "\n",
            "        Amee       0.67      0.50      0.57        20\n",
            "         MTP       0.85      0.85      0.85        20\n",
            "       MyTam       0.71      0.60      0.65        20\n",
            "        NDLN       0.63      0.85      0.72        20\n",
            "   TranThanh       0.86      0.90      0.88        20\n",
            "\n",
            "    accuracy                           0.74       100\n",
            "   macro avg       0.74      0.74      0.73       100\n",
            "weighted avg       0.74      0.74      0.73       100\n",
            "\n"
          ],
          "name": "stdout"
        },
        {
          "output_type": "stream",
          "text": [
            "/usr/local/lib/python3.6/dist-packages/sklearn/linear_model/_logistic.py:940: ConvergenceWarning: lbfgs failed to converge (status=1):\n",
            "STOP: TOTAL NO. of ITERATIONS REACHED LIMIT.\n",
            "\n",
            "Increase the number of iterations (max_iter) or scale the data as shown in:\n",
            "    https://scikit-learn.org/stable/modules/preprocessing.html\n",
            "Please also refer to the documentation for alternative solver options:\n",
            "    https://scikit-learn.org/stable/modules/linear_model.html#logistic-regression\n",
            "  extra_warning_msg=_LOGISTIC_SOLVER_CONVERGENCE_MSG)\n"
          ],
          "name": "stderr"
        }
      ]
    },
    {
      "cell_type": "code",
      "metadata": {
        "id": "95TJQkgzmf_v",
        "colab_type": "code",
        "colab": {}
      },
      "source": [
        "pickle.dump(LR, open('/content/drive/My Drive/hog data/LR.pkl','wb'))"
      ],
      "execution_count": null,
      "outputs": []
    },
    {
      "cell_type": "markdown",
      "metadata": {
        "id": "T8MFriP2jFEs",
        "colab_type": "text"
      },
      "source": [
        "Decision Tree"
      ]
    },
    {
      "cell_type": "code",
      "metadata": {
        "id": "KBjxzEirjJC9",
        "colab_type": "code",
        "colab": {
          "base_uri": "https://localhost:8080/",
          "height": 230
        },
        "outputId": "12b83410-19db-4cb6-ad85-3fc5ac8a88f7"
      },
      "source": [
        "from sklearn import tree\n",
        "clf = tree.DecisionTreeClassifier()\n",
        "clf = clf.fit(X_train, Y_train)\n",
        "\n",
        "y_pred=clf.predict(X_test)\n",
        "print(classification_report(Y_test, y_pred))"
      ],
      "execution_count": null,
      "outputs": [
        {
          "output_type": "stream",
          "text": [
            "              precision    recall  f1-score   support\n",
            "\n",
            "        Amee       0.50      0.55      0.52        20\n",
            "         MTP       0.43      0.45      0.44        20\n",
            "       MyTam       0.19      0.15      0.17        20\n",
            "        NDLN       0.35      0.40      0.37        20\n",
            "   TranThanh       0.44      0.40      0.42        20\n",
            "\n",
            "    accuracy                           0.39       100\n",
            "   macro avg       0.38      0.39      0.38       100\n",
            "weighted avg       0.38      0.39      0.38       100\n",
            "\n"
          ],
          "name": "stdout"
        }
      ]
    },
    {
      "cell_type": "code",
      "metadata": {
        "id": "We66NmQZnMbu",
        "colab_type": "code",
        "colab": {}
      },
      "source": [
        "pickle.dump(clf, open('/content/drive/My Drive/hog data/Tree.pkl','wb'))"
      ],
      "execution_count": null,
      "outputs": []
    },
    {
      "cell_type": "markdown",
      "metadata": {
        "id": "0ZzoIIQRjezV",
        "colab_type": "text"
      },
      "source": [
        "KNN"
      ]
    },
    {
      "cell_type": "code",
      "metadata": {
        "id": "YfkclE5pjgN4",
        "colab_type": "code",
        "colab": {
          "base_uri": "https://localhost:8080/",
          "height": 230
        },
        "outputId": "4cdce133-77b6-4252-d4fd-46b745158426"
      },
      "source": [
        "from sklearn.neighbors import KNeighborsClassifier\n",
        "neigh = KNeighborsClassifier(n_neighbors=5)\n",
        "neigh.fit(X_train, Y_train)\n",
        "\n",
        "y_pred=neigh.predict(X_test)\n",
        "print(classification_report(Y_test, y_pred))"
      ],
      "execution_count": null,
      "outputs": [
        {
          "output_type": "stream",
          "text": [
            "              precision    recall  f1-score   support\n",
            "\n",
            "        Amee       0.56      0.45      0.50        20\n",
            "         MTP       0.81      0.85      0.83        20\n",
            "       MyTam       0.64      0.45      0.53        20\n",
            "        NDLN       0.52      0.75      0.61        20\n",
            "   TranThanh       0.70      0.70      0.70        20\n",
            "\n",
            "    accuracy                           0.64       100\n",
            "   macro avg       0.65      0.64      0.63       100\n",
            "weighted avg       0.65      0.64      0.63       100\n",
            "\n"
          ],
          "name": "stdout"
        }
      ]
    },
    {
      "cell_type": "code",
      "metadata": {
        "id": "D8JnlqQxnVF1",
        "colab_type": "code",
        "colab": {}
      },
      "source": [
        "pickle.dump(neigh, open('/content/drive/My Drive/hog data/KNN.pkl','wb'))"
      ],
      "execution_count": null,
      "outputs": []
    },
    {
      "cell_type": "markdown",
      "metadata": {
        "id": "7iXF-O0xnppA",
        "colab_type": "text"
      },
      "source": [
        "**Demo**"
      ]
    },
    {
      "cell_type": "code",
      "metadata": {
        "id": "E31B_tQzT-ZF",
        "colab_type": "code",
        "colab": {}
      },
      "source": [
        "from google.colab.patches import cv2_imshow\n",
        "import dlib\n",
        "from skimage.feature import hog\n",
        "import pickle"
      ],
      "execution_count": null,
      "outputs": []
    },
    {
      "cell_type": "code",
      "metadata": {
        "id": "YjHieUZ0UGVr",
        "colab_type": "code",
        "colab": {}
      },
      "source": [
        "def demo(path):\n",
        "  img=cv2.imread(path)\n",
        "  hog_face_detector = dlib.get_frontal_face_detector()\n",
        "  faces_hog = hog_face_detector(img, 1)\n",
        "  for face in faces_hog:\n",
        "    x = face.left()\n",
        "    y = face.top()\n",
        "    w = face.right() - x\n",
        "    h = face.bottom() - y\n",
        "    cv2.rectangle(img, (x,y), (x+w,y+h), (0,255,0), 2)\n",
        "  new_img=img[y:y+h, x:x+w]\n",
        "  new_img=cv2.cvtColor(new_img, cv2.COLOR_BGR2GRAY)\n",
        "  new_img=cv2.resize(new_img, (216,216))\n",
        "  fd= hog(new_img, orientations=8, pixels_per_cell=(16, 16), cells_per_block=(4, 4), multichannel=False)\n",
        "  model_svm=pickle.load(open('/content/drive/My Drive/hog data/svm.pkl','rb'))\n",
        "  name=model.predict(fd.reshape(1,-1))[0]\n",
        "  font = cv2.FONT_HERSHEY_SIMPLEX\n",
        "  cv2.putText(img, name,(x-5,y-10), font, 1, (200,255,155),2)\n",
        "  cv2_imshow(img)"
      ],
      "execution_count": null,
      "outputs": []
    },
    {
      "cell_type": "code",
      "metadata": {
        "id": "ITcO09_InDfT",
        "colab_type": "code",
        "colab": {}
      },
      "source": [
        "demo('/content/tran-thanh-1584769243-8344-1584769611.jpg')"
      ],
      "execution_count": null,
      "outputs": []
    }
  ]
}