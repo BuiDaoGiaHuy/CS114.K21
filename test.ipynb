{
  "nbformat": 4,
  "nbformat_minor": 0,
  "metadata": {
    "colab": {
      "name": "test",
      "provenance": [],
      "mount_file_id": "1xF5xZECK1vbqYC5twDi_uG0ef1o-TQp2",
      "authorship_tag": "ABX9TyMILtOkujoMXqgs1T0U30Sy",
      "include_colab_link": true
    },
    "kernelspec": {
      "name": "python3",
      "display_name": "Python 3"
    }
  },
  "cells": [
    {
      "cell_type": "markdown",
      "metadata": {
        "id": "view-in-github",
        "colab_type": "text"
      },
      "source": [
        "<a href=\"https://colab.research.google.com/github/BuiDaoGiaHuy/CS114.K21/blob/master/test.ipynb\" target=\"_parent\"><img src=\"https://colab.research.google.com/assets/colab-badge.svg\" alt=\"Open In Colab\"/></a>"
      ]
    },
    {
      "cell_type": "code",
      "metadata": {
        "id": "lIVxOs3yRGoN",
        "colab_type": "code",
        "colab": {}
      },
      "source": [
        "import os\n",
        "from skimage.feature import hog\n",
        "import cv2"
      ],
      "execution_count": 39,
      "outputs": []
    },
    {
      "cell_type": "code",
      "metadata": {
        "id": "ZtaJLejHRPrf",
        "colab_type": "code",
        "colab": {}
      },
      "source": [
        "img_size=218"
      ],
      "execution_count": 40,
      "outputs": []
    },
    {
      "cell_type": "code",
      "metadata": {
        "id": "XXw3s_w0RYso",
        "colab_type": "code",
        "colab": {}
      },
      "source": [
        "X_train=[]\n",
        "X_train=[]\n",
        "Y_train=[]\n",
        "train_path='/content/drive/My Drive/ML/Train'\n",
        "for folder in os.listdir(train_path):\n",
        "  for file in os.listdir(train_path+'/'+folder):\n",
        "    img=cv2.imread(train_path+'/'+folder+'/'+file, cv2.IMREAD_GRAYSCALE)\n",
        "    img=cv2.resize(img, (img_size, img_size))\n",
        "    fd= hog(img, orientations=9, pixels_per_cell=(16, 16), cells_per_block=(4, 4), multichannel=False)\n",
        "    X_train.append(fd)\n",
        "    Y_train.append(folder)"
      ],
      "execution_count": 41,
      "outputs": []
    },
    {
      "cell_type": "code",
      "metadata": {
        "id": "rlL6j_vtSIDT",
        "colab_type": "code",
        "colab": {}
      },
      "source": [
        "X_test=[]\n",
        "Y_test=[]\n",
        "test_path='/content/drive/My Drive/ML/Test'\n",
        "for folder in os.listdir(test_path):\n",
        "  for file in os.listdir(test_path+'/'+folder):\n",
        "    img=cv2.imread(test_path+'/'+folder+'/'+file, cv2.IMREAD_GRAYSCALE)\n",
        "    img=cv2.resize(img, (img_size, img_size))\n",
        "    fd= hog(img, orientations=9, pixels_per_cell=(16, 16), cells_per_block=(4, 4), multichannel=False)\n",
        "    X_test.append(fd)\n",
        "    Y_test.append(folder)"
      ],
      "execution_count": 42,
      "outputs": []
    },
    {
      "cell_type": "code",
      "metadata": {
        "id": "iqd6ZhSSSWoD",
        "colab_type": "code",
        "colab": {}
      },
      "source": [
        "from sklearn import svm\n",
        "svm_model=svm.SVC(kernel='linear')"
      ],
      "execution_count": 43,
      "outputs": []
    },
    {
      "cell_type": "code",
      "metadata": {
        "id": "ok0RKPtqYQxI",
        "colab_type": "code",
        "colab": {
          "base_uri": "https://localhost:8080/",
          "height": 87
        },
        "outputId": "8caeb71d-8f2c-48f2-b74f-9f1353bbcaaf"
      },
      "source": [
        "svm_model.fit(X_train, Y_train)"
      ],
      "execution_count": 44,
      "outputs": [
        {
          "output_type": "execute_result",
          "data": {
            "text/plain": [
              "SVC(C=1.0, break_ties=False, cache_size=200, class_weight=None, coef0=0.0,\n",
              "    decision_function_shape='ovr', degree=3, gamma='scale', kernel='linear',\n",
              "    max_iter=-1, probability=False, random_state=None, shrinking=True,\n",
              "    tol=0.001, verbose=False)"
            ]
          },
          "metadata": {
            "tags": []
          },
          "execution_count": 44
        }
      ]
    },
    {
      "cell_type": "code",
      "metadata": {
        "id": "OqquxA0EUuhU",
        "colab_type": "code",
        "colab": {
          "base_uri": "https://localhost:8080/",
          "height": 35
        },
        "outputId": "15673a91-ce06-494b-dac2-8427c8d93270"
      },
      "source": [
        "from sklearn.metrics import accuracy_score\n",
        "y_pred=svm_model.predict(X_test)\n",
        "accuracy_score(Y_test, y_pred)"
      ],
      "execution_count": 45,
      "outputs": [
        {
          "output_type": "execute_result",
          "data": {
            "text/plain": [
              "0.75"
            ]
          },
          "metadata": {
            "tags": []
          },
          "execution_count": 45
        }
      ]
    },
    {
      "cell_type": "code",
      "metadata": {
        "id": "o3Q4uyIZVC6I",
        "colab_type": "code",
        "colab": {
          "base_uri": "https://localhost:8080/",
          "height": 225
        },
        "outputId": "2c41be8b-68b1-4c11-ac5a-8b2cc426b0c6"
      },
      "source": [
        "from sklearn.metrics import classification_report\n",
        "print(classification_report(Y_test, y_pred))"
      ],
      "execution_count": 46,
      "outputs": [
        {
          "output_type": "stream",
          "text": [
            "              precision    recall  f1-score   support\n",
            "\n",
            "        Amee       0.91      0.50      0.65        20\n",
            "         MTP       0.75      0.90      0.82        20\n",
            "       MyTam       0.72      0.65      0.68        20\n",
            "        NDLN       0.59      0.80      0.68        20\n",
            "   TranThanh       0.90      0.90      0.90        20\n",
            "\n",
            "    accuracy                           0.75       100\n",
            "   macro avg       0.77      0.75      0.75       100\n",
            "weighted avg       0.77      0.75      0.75       100\n",
            "\n"
          ],
          "name": "stdout"
        }
      ]
    }
  ]
}