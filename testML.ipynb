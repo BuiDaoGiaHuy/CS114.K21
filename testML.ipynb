{
  "nbformat": 4,
  "nbformat_minor": 0,
  "metadata": {
    "colab": {
      "name": "testML",
      "provenance": [],
      "mount_file_id": "1xF5xZECK1vbqYC5twDi_uG0ef1o-TQp2",
      "authorship_tag": "ABX9TyPxOyc6JxA3wJJlTTDqQn/e",
      "include_colab_link": true
    },
    "kernelspec": {
      "name": "python3",
      "display_name": "Python 3"
    }
  },
  "cells": [
    {
      "cell_type": "markdown",
      "metadata": {
        "id": "view-in-github",
        "colab_type": "text"
      },
      "source": [
        "<a href=\"https://colab.research.google.com/github/BuiDaoGiaHuy/CS114.K21/blob/master/testML.ipynb\" target=\"_parent\"><img src=\"https://colab.research.google.com/assets/colab-badge.svg\" alt=\"Open In Colab\"/></a>"
      ]
    },
    {
      "cell_type": "code",
      "metadata": {
        "id": "lIVxOs3yRGoN",
        "colab_type": "code",
        "colab": {}
      },
      "source": [
        "import os\n",
        "from skimage.feature import hog\n",
        "import cv2"
      ],
      "execution_count": 62,
      "outputs": []
    },
    {
      "cell_type": "code",
      "metadata": {
        "id": "ZtaJLejHRPrf",
        "colab_type": "code",
        "colab": {}
      },
      "source": [
        "img_size=218"
      ],
      "execution_count": 63,
      "outputs": []
    },
    {
      "cell_type": "markdown",
      "metadata": {
        "id": "0Rgid2cLl82P",
        "colab_type": "text"
      },
      "source": [
        "Training data"
      ]
    },
    {
      "cell_type": "code",
      "metadata": {
        "id": "XXw3s_w0RYso",
        "colab_type": "code",
        "colab": {}
      },
      "source": [
        "X_train=[]\n",
        "X_train=[]\n",
        "Y_train=[]\n",
        "train_path='/content/drive/My Drive/ML/Train'\n",
        "for folder in os.listdir(train_path):\n",
        "  for file in os.listdir(train_path+'/'+folder):\n",
        "    img=cv2.imread(train_path+'/'+folder+'/'+file, cv2.IMREAD_GRAYSCALE)\n",
        "    img=cv2.resize(img, (img_size, img_size))\n",
        "    fd= hog(img, orientations=9, pixels_per_cell=(16, 16), cells_per_block=(4, 4), multichannel=False)\n",
        "    X_train.append(fd)\n",
        "    Y_train.append(folder)"
      ],
      "execution_count": 64,
      "outputs": []
    },
    {
      "cell_type": "markdown",
      "metadata": {
        "id": "RDBNm5kCmADU",
        "colab_type": "text"
      },
      "source": [
        "Test data"
      ]
    },
    {
      "cell_type": "code",
      "metadata": {
        "id": "rlL6j_vtSIDT",
        "colab_type": "code",
        "colab": {}
      },
      "source": [
        "X_test=[]\n",
        "Y_test=[]\n",
        "test_path='/content/drive/My Drive/ML/Test'\n",
        "for folder in os.listdir(test_path):\n",
        "  for file in os.listdir(test_path+'/'+folder):\n",
        "    img=cv2.imread(test_path+'/'+folder+'/'+file, cv2.IMREAD_GRAYSCALE)\n",
        "    img=cv2.resize(img, (img_size, img_size))\n",
        "    fd= hog(img, orientations=9, pixels_per_cell=(16, 16), cells_per_block=(4, 4), multichannel=False)\n",
        "    X_test.append(fd)\n",
        "    Y_test.append(folder)"
      ],
      "execution_count": 65,
      "outputs": []
    },
    {
      "cell_type": "markdown",
      "metadata": {
        "id": "OAHc-U7smCOK",
        "colab_type": "text"
      },
      "source": [
        "SVM"
      ]
    },
    {
      "cell_type": "code",
      "metadata": {
        "id": "iqd6ZhSSSWoD",
        "colab_type": "code",
        "colab": {
          "base_uri": "https://localhost:8080/",
          "height": 230
        },
        "outputId": "9952b79f-b284-499f-e22c-101297c8bd53"
      },
      "source": [
        "from sklearn import svm\n",
        "from sklearn.metrics import classification_report\n",
        "svm_model=svm.SVC(kernel='linear').fit(X_train, Y_train)\n",
        "\n",
        "y_pred=svm_model.predict(X_test)\n",
        "print(classification_report(Y_test, y_pred))"
      ],
      "execution_count": 66,
      "outputs": [
        {
          "output_type": "stream",
          "text": [
            "              precision    recall  f1-score   support\n",
            "\n",
            "        Amee       0.91      0.50      0.65        20\n",
            "         MTP       0.75      0.90      0.82        20\n",
            "       MyTam       0.72      0.65      0.68        20\n",
            "        NDLN       0.59      0.80      0.68        20\n",
            "   TranThanh       0.90      0.90      0.90        20\n",
            "\n",
            "    accuracy                           0.75       100\n",
            "   macro avg       0.77      0.75      0.75       100\n",
            "weighted avg       0.77      0.75      0.75       100\n",
            "\n"
          ],
          "name": "stdout"
        }
      ]
    },
    {
      "cell_type": "markdown",
      "metadata": {
        "id": "fiLzjRVYmD0V",
        "colab_type": "text"
      },
      "source": [
        "Logistic Regression"
      ]
    },
    {
      "cell_type": "code",
      "metadata": {
        "id": "mGgSBAm8ibqz",
        "colab_type": "code",
        "colab": {
          "base_uri": "https://localhost:8080/",
          "height": 392
        },
        "outputId": "ccfdf226-1a7b-4100-f951-b8235e538223"
      },
      "source": [
        "from sklearn.linear_model import LogisticRegression\n",
        "lg_model=LogisticRegression()\n",
        "lg_model.fit(X_train, Y_train)\n",
        "\n",
        "y_pred=lg_model.predict(X_test)\n",
        "print(classification_report(Y_test, y_pred))"
      ],
      "execution_count": 70,
      "outputs": [
        {
          "output_type": "stream",
          "text": [
            "              precision    recall  f1-score   support\n",
            "\n",
            "        Amee       0.90      0.45      0.60        20\n",
            "         MTP       0.86      0.90      0.88        20\n",
            "       MyTam       0.76      0.65      0.70        20\n",
            "        NDLN       0.62      0.90      0.73        20\n",
            "   TranThanh       0.83      0.95      0.88        20\n",
            "\n",
            "    accuracy                           0.77       100\n",
            "   macro avg       0.79      0.77      0.76       100\n",
            "weighted avg       0.79      0.77      0.76       100\n",
            "\n"
          ],
          "name": "stdout"
        },
        {
          "output_type": "stream",
          "text": [
            "/usr/local/lib/python3.6/dist-packages/sklearn/linear_model/_logistic.py:940: ConvergenceWarning: lbfgs failed to converge (status=1):\n",
            "STOP: TOTAL NO. of ITERATIONS REACHED LIMIT.\n",
            "\n",
            "Increase the number of iterations (max_iter) or scale the data as shown in:\n",
            "    https://scikit-learn.org/stable/modules/preprocessing.html\n",
            "Please also refer to the documentation for alternative solver options:\n",
            "    https://scikit-learn.org/stable/modules/linear_model.html#logistic-regression\n",
            "  extra_warning_msg=_LOGISTIC_SOLVER_CONVERGENCE_MSG)\n"
          ],
          "name": "stderr"
        }
      ]
    },
    {
      "cell_type": "markdown",
      "metadata": {
        "id": "7nJJFM-fmHtL",
        "colab_type": "text"
      },
      "source": [
        "Decision Tree"
      ]
    },
    {
      "cell_type": "code",
      "metadata": {
        "id": "UUL4CT5Hjlcu",
        "colab_type": "code",
        "colab": {
          "base_uri": "https://localhost:8080/",
          "height": 230
        },
        "outputId": "b5d64f6f-4a0d-4df1-b161-de624f22738d"
      },
      "source": [
        "from sklearn import tree\n",
        "clf = tree.DecisionTreeClassifier()\n",
        "clf.fit(X_train, Y_train)\n",
        "\n",
        "y_pred=clf.predict(X_test)\n",
        "print(classification_report(Y_test, y_pred))"
      ],
      "execution_count": 68,
      "outputs": [
        {
          "output_type": "stream",
          "text": [
            "              precision    recall  f1-score   support\n",
            "\n",
            "        Amee       0.43      0.30      0.35        20\n",
            "         MTP       0.58      0.55      0.56        20\n",
            "       MyTam       0.45      0.50      0.48        20\n",
            "        NDLN       0.26      0.25      0.26        20\n",
            "   TranThanh       0.38      0.50      0.43        20\n",
            "\n",
            "    accuracy                           0.42       100\n",
            "   macro avg       0.42      0.42      0.42       100\n",
            "weighted avg       0.42      0.42      0.42       100\n",
            "\n"
          ],
          "name": "stdout"
        }
      ]
    },
    {
      "cell_type": "markdown",
      "metadata": {
        "id": "S3SxuPFAmKGr",
        "colab_type": "text"
      },
      "source": [
        "KNN"
      ]
    },
    {
      "cell_type": "code",
      "metadata": {
        "id": "tTHm95ydk4VG",
        "colab_type": "code",
        "colab": {
          "base_uri": "https://localhost:8080/",
          "height": 230
        },
        "outputId": "a4c52cba-ed11-4546-95f6-b0b9e79374a7"
      },
      "source": [
        "from sklearn.neighbors import KNeighborsClassifier\n",
        "neigh = KNeighborsClassifier(n_neighbors=5)\n",
        "neigh.fit(X_train, y_train)\n",
        "\n",
        "y_pred=neigh.predict(X_test)\n",
        "print(classification_report(Y_test, y_pred))"
      ],
      "execution_count": 69,
      "outputs": [
        {
          "output_type": "stream",
          "text": [
            "              precision    recall  f1-score   support\n",
            "\n",
            "        Amee       0.59      0.50      0.54        20\n",
            "         MTP       0.79      0.95      0.86        20\n",
            "       MyTam       0.67      0.50      0.57        20\n",
            "        NDLN       0.56      0.75      0.64        20\n",
            "   TranThanh       0.76      0.65      0.70        20\n",
            "\n",
            "    accuracy                           0.67       100\n",
            "   macro avg       0.67      0.67      0.66       100\n",
            "weighted avg       0.67      0.67      0.66       100\n",
            "\n"
          ],
          "name": "stdout"
        }
      ]
    }
  ]
}