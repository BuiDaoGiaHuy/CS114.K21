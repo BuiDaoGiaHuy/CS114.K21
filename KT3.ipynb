{
  "nbformat": 4,
  "nbformat_minor": 0,
  "metadata": {
    "colab": {
      "name": "KT3",
      "provenance": [],
      "authorship_tag": "ABX9TyPxcbQwiVwoWdJGLmMtqAfv",
      "include_colab_link": true
    },
    "kernelspec": {
      "name": "python3",
      "display_name": "Python 3"
    }
  },
  "cells": [
    {
      "cell_type": "markdown",
      "metadata": {
        "id": "view-in-github",
        "colab_type": "text"
      },
      "source": [
        "<a href=\"https://colab.research.google.com/github/BuiDaoGiaHuy/CS114.K21/blob/master/KT3.ipynb\" target=\"_parent\"><img src=\"https://colab.research.google.com/assets/colab-badge.svg\" alt=\"Open In Colab\"/></a>"
      ]
    },
    {
      "cell_type": "markdown",
      "metadata": {
        "id": "gd4-4DGDz5t2",
        "colab_type": "text"
      },
      "source": [
        "**Bài 2**"
      ]
    },
    {
      "cell_type": "code",
      "metadata": {
        "id": "kNxZsxquecEE",
        "colab_type": "code",
        "colab": {}
      },
      "source": [
        "from sklearn.linear_model import LinearRegression\n",
        "from sklearn.model_selection import train_test_split\n",
        "from sklearn.metrics import mean_squared_error\n",
        "import matplotlib.pyplot as plt\n",
        "import numpy as np\n",
        "import pandas as pd"
      ],
      "execution_count": 0,
      "outputs": []
    },
    {
      "cell_type": "markdown",
      "metadata": {
        "id": "lHy7yLikzXLM",
        "colab_type": "text"
      },
      "source": [
        "Đọc dữ liệu"
      ]
    },
    {
      "cell_type": "code",
      "metadata": {
        "id": "4Z3cCKwLvSy8",
        "colab_type": "code",
        "outputId": "0b6b4be2-671c-4be0-9ed8-3c07269e8ffa",
        "colab": {
          "base_uri": "https://localhost:8080/",
          "height": 415
        }
      },
      "source": [
        "data2=pd.read_csv('data2.txt', header=None)\n",
        "data2"
      ],
      "execution_count": 99,
      "outputs": [
        {
          "output_type": "execute_result",
          "data": {
            "text/html": [
              "<div>\n",
              "<style scoped>\n",
              "    .dataframe tbody tr th:only-of-type {\n",
              "        vertical-align: middle;\n",
              "    }\n",
              "\n",
              "    .dataframe tbody tr th {\n",
              "        vertical-align: top;\n",
              "    }\n",
              "\n",
              "    .dataframe thead th {\n",
              "        text-align: right;\n",
              "    }\n",
              "</style>\n",
              "<table border=\"1\" class=\"dataframe\">\n",
              "  <thead>\n",
              "    <tr style=\"text-align: right;\">\n",
              "      <th></th>\n",
              "      <th>0</th>\n",
              "      <th>1</th>\n",
              "    </tr>\n",
              "  </thead>\n",
              "  <tbody>\n",
              "    <tr>\n",
              "      <th>0</th>\n",
              "      <td>6083695</td>\n",
              "      <td>0.521842</td>\n",
              "    </tr>\n",
              "    <tr>\n",
              "      <th>1</th>\n",
              "      <td>1954367</td>\n",
              "      <td>0.152648</td>\n",
              "    </tr>\n",
              "    <tr>\n",
              "      <th>2</th>\n",
              "      <td>3734185</td>\n",
              "      <td>0.298548</td>\n",
              "    </tr>\n",
              "    <tr>\n",
              "      <th>3</th>\n",
              "      <td>5839301</td>\n",
              "      <td>0.460480</td>\n",
              "    </tr>\n",
              "    <tr>\n",
              "      <th>4</th>\n",
              "      <td>6343427</td>\n",
              "      <td>0.527977</td>\n",
              "    </tr>\n",
              "    <tr>\n",
              "      <th>...</th>\n",
              "      <td>...</td>\n",
              "      <td>...</td>\n",
              "    </tr>\n",
              "    <tr>\n",
              "      <th>71110</th>\n",
              "      <td>4472112</td>\n",
              "      <td>0.350379</td>\n",
              "    </tr>\n",
              "    <tr>\n",
              "      <th>71111</th>\n",
              "      <td>5471895</td>\n",
              "      <td>0.429955</td>\n",
              "    </tr>\n",
              "    <tr>\n",
              "      <th>71112</th>\n",
              "      <td>9837364</td>\n",
              "      <td>0.801394</td>\n",
              "    </tr>\n",
              "    <tr>\n",
              "      <th>71113</th>\n",
              "      <td>9466593</td>\n",
              "      <td>0.776407</td>\n",
              "    </tr>\n",
              "    <tr>\n",
              "      <th>71114</th>\n",
              "      <td>4080801</td>\n",
              "      <td>0.314468</td>\n",
              "    </tr>\n",
              "  </tbody>\n",
              "</table>\n",
              "<p>71115 rows × 2 columns</p>\n",
              "</div>"
            ],
            "text/plain": [
              "             0         1\n",
              "0      6083695  0.521842\n",
              "1      1954367  0.152648\n",
              "2      3734185  0.298548\n",
              "3      5839301  0.460480\n",
              "4      6343427  0.527977\n",
              "...        ...       ...\n",
              "71110  4472112  0.350379\n",
              "71111  5471895  0.429955\n",
              "71112  9837364  0.801394\n",
              "71113  9466593  0.776407\n",
              "71114  4080801  0.314468\n",
              "\n",
              "[71115 rows x 2 columns]"
            ]
          },
          "metadata": {
            "tags": []
          },
          "execution_count": 99
        }
      ]
    },
    {
      "cell_type": "markdown",
      "metadata": {
        "id": "m_NR-NlllRL1",
        "colab_type": "text"
      },
      "source": [
        "Phân chia dữ liệu"
      ]
    },
    {
      "cell_type": "code",
      "metadata": {
        "id": "i894KTMzwmtF",
        "colab_type": "code",
        "colab": {}
      },
      "source": [
        "x2=data2[0]\n",
        "y2=data2[1]"
      ],
      "execution_count": 0,
      "outputs": []
    },
    {
      "cell_type": "code",
      "metadata": {
        "id": "UFvodNmTvf0o",
        "colab_type": "code",
        "colab": {}
      },
      "source": [
        "\n",
        "x2_train, x2_test, y2_train, y2_test=train_test_split(x, y, test_size=0.2, random_state=0)\n",
        "x2_train=np.array(x2_train).reshape(-1,1)\n",
        "y2_train=np.array(y2_train).reshape(-1,1)\n",
        "x2_test=np.array(x2_test).reshape(-1,1)"
      ],
      "execution_count": 0,
      "outputs": []
    },
    {
      "cell_type": "markdown",
      "metadata": {
        "id": "luNUuBUOlWUZ",
        "colab_type": "text"
      },
      "source": [
        "Xây dựng model"
      ]
    },
    {
      "cell_type": "code",
      "metadata": {
        "id": "LrwoAF7CwMpT",
        "colab_type": "code",
        "colab": {}
      },
      "source": [
        "model2=LinearRegression().fit(x2_train, y2_train)"
      ],
      "execution_count": 0,
      "outputs": []
    },
    {
      "cell_type": "markdown",
      "metadata": {
        "id": "i8N4q0bBzvib",
        "colab_type": "text"
      },
      "source": [
        "Đánh giá mô hình"
      ]
    },
    {
      "cell_type": "code",
      "metadata": {
        "id": "NqLRVHu2xbIr",
        "colab_type": "code",
        "outputId": "a4cfe1d0-ee4e-495f-d4e2-0983877094d6",
        "colab": {
          "base_uri": "https://localhost:8080/",
          "height": 52
        }
      },
      "source": [
        "print('Train_error: ',mean_squared_error(y2_train, model.predict(x2_train), squared=False))\n",
        "print('Test_error: ',mean_squared_error(y2_test, model.predict(x2_test), squared=False))"
      ],
      "execution_count": 145,
      "outputs": [
        {
          "output_type": "stream",
          "text": [
            "Train_error:  0.0118806278293825\n",
            "Test_error:  0.012340579118497674\n"
          ],
          "name": "stdout"
        }
      ]
    },
    {
      "cell_type": "markdown",
      "metadata": {
        "id": "BYFEDLbk0ixb",
        "colab_type": "text"
      },
      "source": [
        "Predict cho 1 mẫu dữ liệu mới"
      ]
    },
    {
      "cell_type": "code",
      "metadata": {
        "id": "FNYKoM6y0lyo",
        "colab_type": "code",
        "outputId": "237e55e9-af84-4550-9608-192e292bcc42",
        "colab": {
          "base_uri": "https://localhost:8080/",
          "height": 52
        }
      },
      "source": [
        "n=int(input('Nhap n: '))\n",
        "print('Predict: ', model.predict(np.array(n).reshape(1,1)))"
      ],
      "execution_count": 91,
      "outputs": [
        {
          "output_type": "stream",
          "text": [
            "Nhap n: 8765432\n",
            "Predict:  [[0.72538002]]\n"
          ],
          "name": "stdout"
        }
      ]
    },
    {
      "cell_type": "markdown",
      "metadata": {
        "id": "WgUmH2yh0BPj",
        "colab_type": "text"
      },
      "source": [
        "**Bài 3**"
      ]
    },
    {
      "cell_type": "markdown",
      "metadata": {
        "id": "opan5Z9Olaze",
        "colab_type": "text"
      },
      "source": [
        "Đọc dữ liệu mới"
      ]
    },
    {
      "cell_type": "code",
      "metadata": {
        "id": "OanvdqYB11Py",
        "colab_type": "code",
        "outputId": "a841bbe8-8e46-4c85-85d2-1508be9cf78e",
        "colab": {
          "base_uri": "https://localhost:8080/",
          "height": 415
        }
      },
      "source": [
        "data3=pd.read_csv('data3.txt',header=None)\n",
        "data3"
      ],
      "execution_count": 112,
      "outputs": [
        {
          "output_type": "execute_result",
          "data": {
            "text/html": [
              "<div>\n",
              "<style scoped>\n",
              "    .dataframe tbody tr th:only-of-type {\n",
              "        vertical-align: middle;\n",
              "    }\n",
              "\n",
              "    .dataframe tbody tr th {\n",
              "        vertical-align: top;\n",
              "    }\n",
              "\n",
              "    .dataframe thead th {\n",
              "        text-align: right;\n",
              "    }\n",
              "</style>\n",
              "<table border=\"1\" class=\"dataframe\">\n",
              "  <thead>\n",
              "    <tr style=\"text-align: right;\">\n",
              "      <th></th>\n",
              "      <th>0</th>\n",
              "      <th>1</th>\n",
              "    </tr>\n",
              "  </thead>\n",
              "  <tbody>\n",
              "    <tr>\n",
              "      <th>0</th>\n",
              "      <td>37837612</td>\n",
              "      <td>4.12166</td>\n",
              "    </tr>\n",
              "    <tr>\n",
              "      <th>1</th>\n",
              "      <td>37395246</td>\n",
              "      <td>3.92089</td>\n",
              "    </tr>\n",
              "    <tr>\n",
              "      <th>2</th>\n",
              "      <td>36610827</td>\n",
              "      <td>3.21540</td>\n",
              "    </tr>\n",
              "    <tr>\n",
              "      <th>3</th>\n",
              "      <td>29555651</td>\n",
              "      <td>2.54506</td>\n",
              "    </tr>\n",
              "    <tr>\n",
              "      <th>4</th>\n",
              "      <td>25928216</td>\n",
              "      <td>2.21831</td>\n",
              "    </tr>\n",
              "    <tr>\n",
              "      <th>...</th>\n",
              "      <td>...</td>\n",
              "      <td>...</td>\n",
              "    </tr>\n",
              "    <tr>\n",
              "      <th>10585</th>\n",
              "      <td>26872494</td>\n",
              "      <td>2.35117</td>\n",
              "    </tr>\n",
              "    <tr>\n",
              "      <th>10586</th>\n",
              "      <td>20753811</td>\n",
              "      <td>1.79155</td>\n",
              "    </tr>\n",
              "    <tr>\n",
              "      <th>10587</th>\n",
              "      <td>33520323</td>\n",
              "      <td>2.90918</td>\n",
              "    </tr>\n",
              "    <tr>\n",
              "      <th>10588</th>\n",
              "      <td>21243264</td>\n",
              "      <td>1.80292</td>\n",
              "    </tr>\n",
              "    <tr>\n",
              "      <th>10589</th>\n",
              "      <td>21380484</td>\n",
              "      <td>1.82795</td>\n",
              "    </tr>\n",
              "  </tbody>\n",
              "</table>\n",
              "<p>10590 rows × 2 columns</p>\n",
              "</div>"
            ],
            "text/plain": [
              "              0        1\n",
              "0      37837612  4.12166\n",
              "1      37395246  3.92089\n",
              "2      36610827  3.21540\n",
              "3      29555651  2.54506\n",
              "4      25928216  2.21831\n",
              "...         ...      ...\n",
              "10585  26872494  2.35117\n",
              "10586  20753811  1.79155\n",
              "10587  33520323  2.90918\n",
              "10588  21243264  1.80292\n",
              "10589  21380484  1.82795\n",
              "\n",
              "[10590 rows x 2 columns]"
            ]
          },
          "metadata": {
            "tags": []
          },
          "execution_count": 112
        }
      ]
    },
    {
      "cell_type": "code",
      "metadata": {
        "id": "8brUEzHS2ZAO",
        "colab_type": "code",
        "colab": {}
      },
      "source": [
        "x3=np.array(data3[0]).reshape(-1,1)\n",
        "y3=data3[1]"
      ],
      "execution_count": 0,
      "outputs": []
    },
    {
      "cell_type": "markdown",
      "metadata": {
        "id": "pTW6ehWYaAec",
        "colab_type": "text"
      },
      "source": [
        "Kết quả đánh giá tệ hơn trên dataset mới"
      ]
    },
    {
      "cell_type": "code",
      "metadata": {
        "id": "D0es7zKXZI-n",
        "colab_type": "code",
        "colab": {
          "base_uri": "https://localhost:8080/",
          "height": 35
        },
        "outputId": "a5d686d3-20f1-49d3-f258-a30128d96a9b"
      },
      "source": [
        "a=mean_squared_error(y3, model2.predict(x3), squared=False)\n",
        "print(a)"
      ],
      "execution_count": 151,
      "outputs": [
        {
          "output_type": "stream",
          "text": [
            "0.14367615159846545\n"
          ],
          "name": "stdout"
        }
      ]
    },
    {
      "cell_type": "markdown",
      "metadata": {
        "id": "T3KI_9elhqx-",
        "colab_type": "text"
      },
      "source": [
        "Thêm features cho dữ liệu mới"
      ]
    },
    {
      "cell_type": "code",
      "metadata": {
        "id": "RXx6m2Epb7CT",
        "colab_type": "code",
        "colab": {
          "base_uri": "https://localhost:8080/",
          "height": 415
        },
        "outputId": "8ae5b166-c152-460a-ab7a-21d2435d39d3"
      },
      "source": [
        "data3p=pd.read_csv('data3p.csv')\n",
        "data3p"
      ],
      "execution_count": 127,
      "outputs": [
        {
          "output_type": "execute_result",
          "data": {
            "text/html": [
              "<div>\n",
              "<style scoped>\n",
              "    .dataframe tbody tr th:only-of-type {\n",
              "        vertical-align: middle;\n",
              "    }\n",
              "\n",
              "    .dataframe tbody tr th {\n",
              "        vertical-align: top;\n",
              "    }\n",
              "\n",
              "    .dataframe thead th {\n",
              "        text-align: right;\n",
              "    }\n",
              "</style>\n",
              "<table border=\"1\" class=\"dataframe\">\n",
              "  <thead>\n",
              "    <tr style=\"text-align: right;\">\n",
              "      <th></th>\n",
              "      <th>NlogN</th>\n",
              "      <th>N</th>\n",
              "      <th>logN</th>\n",
              "      <th>Time</th>\n",
              "    </tr>\n",
              "  </thead>\n",
              "  <tbody>\n",
              "    <tr>\n",
              "      <th>0</th>\n",
              "      <td>9.524982e+08</td>\n",
              "      <td>37837612</td>\n",
              "      <td>25.173318</td>\n",
              "      <td>4.1216</td>\n",
              "    </tr>\n",
              "    <tr>\n",
              "      <th>1</th>\n",
              "      <td>9.407280e+08</td>\n",
              "      <td>37395246</td>\n",
              "      <td>25.156352</td>\n",
              "      <td>3.9208</td>\n",
              "    </tr>\n",
              "    <tr>\n",
              "      <th>2</th>\n",
              "      <td>9.198751e+08</td>\n",
              "      <td>36610827</td>\n",
              "      <td>25.125767</td>\n",
              "      <td>3.2150</td>\n",
              "    </tr>\n",
              "    <tr>\n",
              "      <th>3</th>\n",
              "      <td>7.334805e+08</td>\n",
              "      <td>29555651</td>\n",
              "      <td>24.816931</td>\n",
              "      <td>2.5450</td>\n",
              "    </tr>\n",
              "    <tr>\n",
              "      <th>4</th>\n",
              "      <td>6.385606e+08</td>\n",
              "      <td>25928216</td>\n",
              "      <td>24.628020</td>\n",
              "      <td>2.2183</td>\n",
              "    </tr>\n",
              "    <tr>\n",
              "      <th>...</th>\n",
              "      <td>...</td>\n",
              "      <td>...</td>\n",
              "      <td>...</td>\n",
              "      <td>...</td>\n",
              "    </tr>\n",
              "    <tr>\n",
              "      <th>10585</th>\n",
              "      <td>6.632031e+08</td>\n",
              "      <td>26872494</td>\n",
              "      <td>24.679627</td>\n",
              "      <td>2.3511</td>\n",
              "    </tr>\n",
              "    <tr>\n",
              "      <th>10586</th>\n",
              "      <td>5.044602e+08</td>\n",
              "      <td>20753811</td>\n",
              "      <td>24.306873</td>\n",
              "      <td>1.7915</td>\n",
              "    </tr>\n",
              "    <tr>\n",
              "      <th>10587</th>\n",
              "      <td>8.379589e+08</td>\n",
              "      <td>33520323</td>\n",
              "      <td>24.998533</td>\n",
              "      <td>2.9091</td>\n",
              "    </tr>\n",
              "    <tr>\n",
              "      <th>10588</th>\n",
              "      <td>5.170717e+08</td>\n",
              "      <td>21243264</td>\n",
              "      <td>24.340502</td>\n",
              "      <td>1.8029</td>\n",
              "    </tr>\n",
              "    <tr>\n",
              "      <th>10589</th>\n",
              "      <td>5.206103e+08</td>\n",
              "      <td>21380484</td>\n",
              "      <td>24.349791</td>\n",
              "      <td>1.8279</td>\n",
              "    </tr>\n",
              "  </tbody>\n",
              "</table>\n",
              "<p>10590 rows × 4 columns</p>\n",
              "</div>"
            ],
            "text/plain": [
              "              NlogN         N       logN    Time\n",
              "0      9.524982e+08  37837612  25.173318  4.1216\n",
              "1      9.407280e+08  37395246  25.156352  3.9208\n",
              "2      9.198751e+08  36610827  25.125767  3.2150\n",
              "3      7.334805e+08  29555651  24.816931  2.5450\n",
              "4      6.385606e+08  25928216  24.628020  2.2183\n",
              "...             ...       ...        ...     ...\n",
              "10585  6.632031e+08  26872494  24.679627  2.3511\n",
              "10586  5.044602e+08  20753811  24.306873  1.7915\n",
              "10587  8.379589e+08  33520323  24.998533  2.9091\n",
              "10588  5.170717e+08  21243264  24.340502  1.8029\n",
              "10589  5.206103e+08  21380484  24.349791  1.8279\n",
              "\n",
              "[10590 rows x 4 columns]"
            ]
          },
          "metadata": {
            "tags": []
          },
          "execution_count": 127
        }
      ]
    },
    {
      "cell_type": "code",
      "metadata": {
        "id": "pOAT6ix0cHqB",
        "colab_type": "code",
        "colab": {}
      },
      "source": [
        "x3p=data3p[['NlogN','N','logN']]\n",
        "y3p=data3p['Time']"
      ],
      "execution_count": 0,
      "outputs": []
    },
    {
      "cell_type": "markdown",
      "metadata": {
        "id": "Gm712ZnChxvD",
        "colab_type": "text"
      },
      "source": [
        "Model mới"
      ]
    },
    {
      "cell_type": "code",
      "metadata": {
        "id": "jlum8FbrfGdA",
        "colab_type": "code",
        "colab": {
          "base_uri": "https://localhost:8080/",
          "height": 35
        },
        "outputId": "ad8ce276-c362-40ff-bfc2-936b9eff6975"
      },
      "source": [
        "x3p_train, x3p_test, y3p_train, y3p_test=train_test_split(x3p, y3p, test_size=0.2, random_state=0)\n",
        "model3=LinearRegression().fit(x3p_train, y3p_train)\n",
        "b=mean_squared_error(y3p_test, model3.predict(x3p_test), squared=False)\n",
        "print(b)"
      ],
      "execution_count": 152,
      "outputs": [
        {
          "output_type": "stream",
          "text": [
            "0.05458570021019165\n"
          ],
          "name": "stdout"
        }
      ]
    },
    {
      "cell_type": "markdown",
      "metadata": {
        "id": "fZ8vkLxKk0xq",
        "colab_type": "text"
      },
      "source": [
        "Hiệu suất cải thiện của model mới so với model cũ"
      ]
    },
    {
      "cell_type": "code",
      "metadata": {
        "id": "lzI0XQO0kWNo",
        "colab_type": "code",
        "colab": {
          "base_uri": "https://localhost:8080/",
          "height": 35
        },
        "outputId": "8c8b8a56-1791-43d9-cd33-a1b79eabcc66"
      },
      "source": [
        "print(a/b)"
      ],
      "execution_count": 150,
      "outputs": [
        {
          "output_type": "stream",
          "text": [
            "2.6321207027704263\n"
          ],
          "name": "stdout"
        }
      ]
    }
  ]
}